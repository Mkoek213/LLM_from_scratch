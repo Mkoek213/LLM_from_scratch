{
 "cells": [
  {
   "cell_type": "markdown",
   "id": "b2e228a6",
   "metadata": {},
   "source": [
    "## Pretraining on unlabeled data"
   ]
  },
  {
   "cell_type": "markdown",
   "id": "88f13d70",
   "metadata": {},
   "source": [
    "### 1) Evaluating generative text models"
   ]
  },
  {
   "cell_type": "code",
   "execution_count": 14,
   "id": "a47cd118",
   "metadata": {},
   "outputs": [],
   "source": [
    "from utils import GPTModel\n",
    "import torch\n",
    "\n",
    "GPT_CONFIG_124M = {\n",
    "    \"vocab_size\": 200019,\n",
    "    \"context_length\": 1024,\n",
    "    \"emb_dim\": 768,\n",
    "    \"n_heads\": 12,\n",
    "    \"n_layers\": 12,\n",
    "    \"drop_rate\": 0.1,\n",
    "    \"qkv_bias\": False\n",
    "}"
   ]
  },
  {
   "cell_type": "code",
   "execution_count": 15,
   "id": "ba679878",
   "metadata": {},
   "outputs": [],
   "source": [
    "torch.manual_seed(123)\n",
    "model = GPTModel(GPT_CONFIG_124M)\n",
    "model.eval();"
   ]
  },
  {
   "cell_type": "code",
   "execution_count": 16,
   "id": "d08ab0fc",
   "metadata": {},
   "outputs": [],
   "source": [
    "import tiktoken\n",
    "from utils import generate_text_simple\n",
    "\n",
    "def text_to_token_ids(text, tokenizer):\n",
    "    encoded = tokenizer.encode(text, allowed_special={\"<|endoftext|>\"})\n",
    "    encoded_tensor = torch.tensor(encoded).unsqueeze(0)\n",
    "    return encoded_tensor"
   ]
  },
  {
   "cell_type": "code",
   "execution_count": 17,
   "id": "49cfb5b3",
   "metadata": {},
   "outputs": [
    {
     "name": "stdout",
     "output_type": "stream",
     "text": [
      "Input IDs: tensor([[152687,   8811,   3705, 155653,    286,   2453,   3008,  12637]])\n"
     ]
    }
   ],
   "source": [
    "start_context = \"Pierwszy dzień wiosny jest\"\n",
    "tokenizer = tiktoken.get_encoding(\"o200k_base\")\n",
    "input_ids = text_to_token_ids(start_context, tokenizer)\n",
    "print(\"Input IDs:\", input_ids)"
   ]
  },
  {
   "cell_type": "code",
   "execution_count": 18,
   "id": "c06c7ffc",
   "metadata": {},
   "outputs": [],
   "source": [
    "def token_ids_to_text(token_ids, tokenizer):\n",
    "    decoded = tokenizer.decode(token_ids.squeeze(0).tolist())\n",
    "    return decoded"
   ]
  },
  {
   "cell_type": "code",
   "execution_count": 19,
   "id": "c73251bc",
   "metadata": {},
   "outputs": [
    {
     "name": "stdout",
     "output_type": "stream",
     "text": [
      "Token IDs to text: <function token_ids_to_text at 0x7fc1aa836660>\n"
     ]
    }
   ],
   "source": [
    "token_ids_to_text(input_ids, tokenizer)\n",
    "print(\"Token IDs to text:\", token_ids_to_text)"
   ]
  },
  {
   "cell_type": "code",
   "execution_count": 20,
   "id": "2126a171",
   "metadata": {},
   "outputs": [],
   "source": [
    "token_ids = generate_text_simple(\n",
    "    model=model,\n",
    "    idx=text_to_token_ids(start_context, tokenizer),\n",
    "    max_new_tokens=10,\n",
    "    context_size=GPT_CONFIG_124M[\"context_length\"],\n",
    ")"
   ]
  },
  {
   "cell_type": "code",
   "execution_count": 21,
   "id": "4116fa9b",
   "metadata": {},
   "outputs": [
    {
     "data": {
      "text/plain": [
       "tensor([152687,   8811,   3705, 155653,    286,   2453,   3008,  12637,   2944,\n",
       "         32600,  10819,  29864,  14338, 160118,  91249, 189492, 135305,  65540])"
      ]
     },
     "execution_count": 21,
     "metadata": {},
     "output_type": "execute_result"
    }
   ],
   "source": [
    "token_ids.squeeze(0)"
   ]
  },
  {
   "cell_type": "code",
   "execution_count": 22,
   "id": "8b33575e",
   "metadata": {},
   "outputs": [
    {
     "data": {
      "text/plain": [
       "'Pierwszy dzień wiosny jest monthibileosingGP branch Wolfs hướng serien தொகету'"
      ]
     },
     "execution_count": 22,
     "metadata": {},
     "output_type": "execute_result"
    }
   ],
   "source": [
    "token_ids_to_text(token_ids, tokenizer)"
   ]
  },
  {
   "cell_type": "code",
   "execution_count": null,
   "id": "7e8fec4d",
   "metadata": {},
   "outputs": [],
   "source": []
  }
 ],
 "metadata": {
  "kernelspec": {
   "display_name": ".venv",
   "language": "python",
   "name": "python3"
  },
  "language_info": {
   "codemirror_mode": {
    "name": "ipython",
    "version": 3
   },
   "file_extension": ".py",
   "mimetype": "text/x-python",
   "name": "python",
   "nbconvert_exporter": "python",
   "pygments_lexer": "ipython3",
   "version": "3.12.3"
  }
 },
 "nbformat": 4,
 "nbformat_minor": 5
}
