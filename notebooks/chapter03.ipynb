{
 "cells": [
  {
   "cell_type": "markdown",
   "metadata": {},
   "source": [
    "## Coding Attention Mechanisms"
   ]
  },
  {
   "cell_type": "markdown",
   "metadata": {},
   "source": [
    "### 1) Simple self-attention mechanism without trainable weights"
   ]
  },
  {
   "cell_type": "code",
   "execution_count": 2,
   "metadata": {},
   "outputs": [
    {
     "name": "stderr",
     "output_type": "stream",
     "text": [
      "/home/mikolaj/work/LLM_from_scratch/.venv/lib/python3.12/site-packages/torch/_subclasses/functional_tensor.py:275: UserWarning: Failed to initialize NumPy: No module named 'numpy' (Triggered internally at /pytorch/torch/csrc/utils/tensor_numpy.cpp:81.)\n",
      "  cpu = _conversion_method_template(device=torch.device(\"cpu\"))\n"
     ]
    }
   ],
   "source": [
    "import torch\n",
    "\n",
    "inputs = torch.tensor(\n",
    "    [\n",
    "        [0.43, 0.12, 0.45],\n",
    "        [0.23, 0.67, 0.10],\n",
    "        [0.12, 0.45, 0.43],\n",
    "        [0.67, 0.23, 0.10],\n",
    "        [0.45, 0.10, 0.43],\n",
    "        [0.10, 0.43, 0.67],\n",
    "    ]\n",
    ")\n"
   ]
  },
  {
   "cell_type": "code",
   "execution_count": 3,
   "metadata": {},
   "outputs": [
    {
     "data": {
      "text/plain": [
       "tensor([0.2300, 0.6700, 0.1000])"
      ]
     },
     "execution_count": 3,
     "metadata": {},
     "output_type": "execute_result"
    }
   ],
   "source": [
    "input_query = inputs[1]\n",
    "input_query"
   ]
  },
  {
   "cell_type": "code",
   "execution_count": 4,
   "metadata": {},
   "outputs": [
    {
     "data": {
      "text/plain": [
       "tensor([0.4300, 0.1200, 0.4500])"
      ]
     },
     "execution_count": 4,
     "metadata": {},
     "output_type": "execute_result"
    }
   ],
   "source": [
    "input_1 = inputs[0]\n",
    "input_1"
   ]
  },
  {
   "cell_type": "code",
   "execution_count": 5,
   "metadata": {},
   "outputs": [
    {
     "data": {
      "text/plain": [
       "tensor(0.2243)"
      ]
     },
     "execution_count": 5,
     "metadata": {},
     "output_type": "execute_result"
    }
   ],
   "source": [
    "torch.dot(input_query, input_1)"
   ]
  },
  {
   "cell_type": "code",
   "execution_count": 6,
   "metadata": {},
   "outputs": [
    {
     "data": {
      "text/plain": [
       "tensor(0.5118)"
      ]
     },
     "execution_count": 6,
     "metadata": {},
     "output_type": "execute_result"
    }
   ],
   "source": [
    "res = 0.\n",
    "i = 1\n",
    "\n",
    "for idx, element in enumerate(inputs[i]):\n",
    "    res += inputs[i][idx] * input_query[idx]\n",
    "\n",
    "res"
   ]
  },
  {
   "cell_type": "code",
   "execution_count": 7,
   "metadata": {},
   "outputs": [
    {
     "data": {
      "text/plain": [
       "tensor(0.5118)"
      ]
     },
     "execution_count": 7,
     "metadata": {},
     "output_type": "execute_result"
    }
   ],
   "source": [
    "i = 1\n",
    "res = torch.dot(inputs[i], input_query) \n",
    "res"
   ]
  },
  {
   "cell_type": "code",
   "execution_count": 8,
   "metadata": {},
   "outputs": [
    {
     "name": "stdout",
     "output_type": "stream",
     "text": [
      "tensor([0.2243, 0.5118, 0.3721, 0.3182, 0.2135, 0.3781])\n"
     ]
    }
   ],
   "source": [
    "query = inputs[1]\n",
    "\n",
    "attn_scores_2 = torch.empty(inputs.shape[0])\n",
    "for i, x_i in enumerate(inputs):\n",
    "    attn_scores_2[i] = torch.dot(x_i, input_query)\n",
    "\n",
    "print(attn_scores_2)"
   ]
  },
  {
   "cell_type": "code",
   "execution_count": 9,
   "metadata": {},
   "outputs": [
    {
     "data": {
      "text/plain": [
       "tensor([0.1111, 0.2536, 0.1844, 0.1577, 0.1058, 0.1874])"
      ]
     },
     "execution_count": 9,
     "metadata": {},
     "output_type": "execute_result"
    }
   ],
   "source": [
    "attn_weights_2_tmp = attn_scores_2 / attn_scores_2.sum()\n",
    "attn_weights_2_tmp"
   ]
  },
  {
   "cell_type": "code",
   "execution_count": 10,
   "metadata": {},
   "outputs": [
    {
     "data": {
      "text/plain": [
       "tensor(1.0000)"
      ]
     },
     "execution_count": 10,
     "metadata": {},
     "output_type": "execute_result"
    }
   ],
   "source": [
    "attn_weights_2_tmp.sum()"
   ]
  },
  {
   "cell_type": "code",
   "execution_count": 13,
   "metadata": {},
   "outputs": [],
   "source": [
    "attn_weights_2 = torch.softmax(attn_scores_2, dim=0)"
   ]
  },
  {
   "cell_type": "code",
   "execution_count": 14,
   "metadata": {},
   "outputs": [
    {
     "data": {
      "text/plain": [
       "tensor([0., 0., 0.])"
      ]
     },
     "execution_count": 14,
     "metadata": {},
     "output_type": "execute_result"
    }
   ],
   "source": [
    "torch.zeros(query.shape)"
   ]
  },
  {
   "cell_type": "code",
   "execution_count": 16,
   "metadata": {},
   "outputs": [
    {
     "name": "stdout",
     "output_type": "stream",
     "text": [
      "0.14822857081890106 ----> tensor([0.4300, 0.1200, 0.4500])\n",
      "0.19760210812091827 ----> tensor([0.2300, 0.6700, 0.1000])\n",
      "0.17183856666088104 ----> tensor([0.1200, 0.4500, 0.4300])\n",
      "0.16282165050506592 ----> tensor([0.6700, 0.2300, 0.1000])\n",
      "0.14663630723953247 ----> tensor([0.4500, 0.1000, 0.4300])\n",
      "0.17287269234657288 ----> tensor([0.1000, 0.4300, 0.6700])\n",
      "tensor([0.3222, 0.3540, 0.3555])\n"
     ]
    }
   ],
   "source": [
    "query = inputs[1]\n",
    "\n",
    "context_vec_2 = torch.zeros(query.shape)\n",
    "for i, x_i in enumerate(inputs):\n",
    "    print(f\"{attn_weights_2[i]} ----> {x_i}\")\n",
    "    context_vec_2 += attn_weights_2[i] * x_i\n",
    "print(context_vec_2)"
   ]
  },
  {
   "cell_type": "markdown",
   "metadata": {},
   "source": [
    "### 2) Simple self-attention mechanism without trainable weights generalized"
   ]
  },
  {
   "cell_type": "code",
   "execution_count": 19,
   "metadata": {},
   "outputs": [
    {
     "name": "stdout",
     "output_type": "stream",
     "text": [
      "tensor([[0.4018, 0.2243, 0.2991, 0.3607, 0.3990, 0.3961],\n",
      "        [0.2243, 0.5118, 0.3721, 0.3182, 0.2135, 0.3781],\n",
      "        [0.2991, 0.3721, 0.4018, 0.2269, 0.2839, 0.4936],\n",
      "        [0.3607, 0.3182, 0.2269, 0.5118, 0.3675, 0.2329],\n",
      "        [0.3990, 0.2135, 0.2839, 0.3675, 0.3974, 0.3761],\n",
      "        [0.3961, 0.3781, 0.4936, 0.2329, 0.3761, 0.6438]])\n"
     ]
    }
   ],
   "source": [
    "attn_scores = torch.empty(6, 6)\n",
    "\n",
    "\n",
    "for i, x_i in enumerate(inputs):\n",
    "    for j, x_j in enumerate(inputs):\n",
    "        attn_scores[i][j] = torch.dot(x_i, x_j)\n",
    "print(attn_scores)"
   ]
  },
  {
   "cell_type": "code",
   "execution_count": 21,
   "metadata": {},
   "outputs": [
    {
     "name": "stdout",
     "output_type": "stream",
     "text": [
      "tensor([[0.4018, 0.2243, 0.2991, 0.3607, 0.3990, 0.3961],\n",
      "        [0.2243, 0.5118, 0.3721, 0.3182, 0.2135, 0.3781],\n",
      "        [0.2991, 0.3721, 0.4018, 0.2269, 0.2839, 0.4936],\n",
      "        [0.3607, 0.3182, 0.2269, 0.5118, 0.3675, 0.2329],\n",
      "        [0.3990, 0.2135, 0.2839, 0.3675, 0.3974, 0.3761],\n",
      "        [0.3961, 0.3781, 0.4936, 0.2329, 0.3761, 0.6438]])\n"
     ]
    }
   ],
   "source": [
    "attn_scores = inputs @ inputs.T\n",
    "print(attn_scores)"
   ]
  },
  {
   "cell_type": "code",
   "execution_count": 23,
   "metadata": {},
   "outputs": [
    {
     "name": "stdout",
     "output_type": "stream",
     "text": [
      "tensor([[0.1757, 0.1471, 0.1586, 0.1686, 0.1752, 0.1747],\n",
      "        [0.1482, 0.1976, 0.1718, 0.1628, 0.1466, 0.1729],\n",
      "        [0.1584, 0.1704, 0.1755, 0.1473, 0.1560, 0.1924],\n",
      "        [0.1700, 0.1629, 0.1487, 0.1977, 0.1711, 0.1496],\n",
      "        [0.1765, 0.1466, 0.1573, 0.1710, 0.1762, 0.1725],\n",
      "        [0.1614, 0.1585, 0.1779, 0.1371, 0.1582, 0.2068]])\n"
     ]
    }
   ],
   "source": [
    "attn_weights = torch.softmax(attn_scores, dim=1)\n",
    "print(attn_weights)"
   ]
  },
  {
   "cell_type": "code",
   "execution_count": 24,
   "metadata": {},
   "outputs": [
    {
     "name": "stdout",
     "output_type": "stream",
     "text": [
      "tensor([[0.3377, 0.3225, 0.3712],\n",
      "        [0.3222, 0.3540, 0.3555],\n",
      "        [0.3165, 0.3444, 0.3745],\n",
      "        [0.3528, 0.3234, 0.3503],\n",
      "        [0.3396, 0.3213, 0.3701],\n",
      "        [0.3110, 0.3419, 0.3853]])\n"
     ]
    }
   ],
   "source": [
    "all_context_vecs = attn_weights @ inputs\n",
    "print(all_context_vecs)"
   ]
  },
  {
   "cell_type": "code",
   "execution_count": null,
   "metadata": {},
   "outputs": [],
   "source": []
  }
 ],
 "metadata": {
  "kernelspec": {
   "display_name": ".venv",
   "language": "python",
   "name": "python3"
  },
  "language_info": {
   "codemirror_mode": {
    "name": "ipython",
    "version": 3
   },
   "file_extension": ".py",
   "mimetype": "text/x-python",
   "name": "python",
   "nbconvert_exporter": "python",
   "pygments_lexer": "ipython3",
   "version": "3.12.3"
  }
 },
 "nbformat": 4,
 "nbformat_minor": 2
}
