{
 "cells": [
  {
   "cell_type": "markdown",
   "metadata": {},
   "source": [
    "## Coding Attention Mechanisms"
   ]
  },
  {
   "cell_type": "markdown",
   "metadata": {},
   "source": [
    "### 1) Simple self-attention mechanism without trainable weights"
   ]
  },
  {
   "cell_type": "code",
   "execution_count": 1,
   "metadata": {},
   "outputs": [],
   "source": [
    "import torch\n",
    "\n",
    "inputs = torch.tensor(\n",
    "    [\n",
    "        [0.43, 0.12, 0.45],\n",
    "        [0.23, 0.67, 0.10],\n",
    "        [0.12, 0.45, 0.43],\n",
    "        [0.67, 0.23, 0.10],\n",
    "        [0.45, 0.10, 0.43],\n",
    "        [0.10, 0.43, 0.67],\n",
    "    ]\n",
    ")\n"
   ]
  },
  {
   "cell_type": "code",
   "execution_count": 2,
   "metadata": {},
   "outputs": [
    {
     "data": {
      "text/plain": [
       "tensor([0.2300, 0.6700, 0.1000])"
      ]
     },
     "execution_count": 2,
     "metadata": {},
     "output_type": "execute_result"
    }
   ],
   "source": [
    "input_query = inputs[1]\n",
    "input_query"
   ]
  },
  {
   "cell_type": "code",
   "execution_count": 3,
   "metadata": {},
   "outputs": [
    {
     "data": {
      "text/plain": [
       "tensor([0.4300, 0.1200, 0.4500])"
      ]
     },
     "execution_count": 3,
     "metadata": {},
     "output_type": "execute_result"
    }
   ],
   "source": [
    "input_1 = inputs[0]\n",
    "input_1"
   ]
  },
  {
   "cell_type": "code",
   "execution_count": 4,
   "metadata": {},
   "outputs": [
    {
     "data": {
      "text/plain": [
       "tensor(0.2243)"
      ]
     },
     "execution_count": 4,
     "metadata": {},
     "output_type": "execute_result"
    }
   ],
   "source": [
    "torch.dot(input_query, input_1)"
   ]
  },
  {
   "cell_type": "code",
   "execution_count": 5,
   "metadata": {},
   "outputs": [
    {
     "data": {
      "text/plain": [
       "tensor(0.5118)"
      ]
     },
     "execution_count": 5,
     "metadata": {},
     "output_type": "execute_result"
    }
   ],
   "source": [
    "res = 0.\n",
    "i = 1\n",
    "\n",
    "for idx, element in enumerate(inputs[i]):\n",
    "    res += inputs[i][idx] * input_query[idx]\n",
    "\n",
    "res"
   ]
  },
  {
   "cell_type": "code",
   "execution_count": 6,
   "metadata": {},
   "outputs": [
    {
     "data": {
      "text/plain": [
       "tensor(0.5118)"
      ]
     },
     "execution_count": 6,
     "metadata": {},
     "output_type": "execute_result"
    }
   ],
   "source": [
    "i = 1\n",
    "res = torch.dot(inputs[i], input_query) \n",
    "res"
   ]
  },
  {
   "cell_type": "code",
   "execution_count": 7,
   "metadata": {},
   "outputs": [
    {
     "name": "stdout",
     "output_type": "stream",
     "text": [
      "tensor([0.2243, 0.5118, 0.3721, 0.3182, 0.2135, 0.3781])\n"
     ]
    }
   ],
   "source": [
    "query = inputs[1]\n",
    "\n",
    "attn_scores_2 = torch.empty(inputs.shape[0])\n",
    "for i, x_i in enumerate(inputs):\n",
    "    attn_scores_2[i] = torch.dot(x_i, input_query)\n",
    "\n",
    "print(attn_scores_2)"
   ]
  },
  {
   "cell_type": "code",
   "execution_count": 8,
   "metadata": {},
   "outputs": [
    {
     "data": {
      "text/plain": [
       "tensor([0.1111, 0.2536, 0.1844, 0.1577, 0.1058, 0.1874])"
      ]
     },
     "execution_count": 8,
     "metadata": {},
     "output_type": "execute_result"
    }
   ],
   "source": [
    "attn_weights_2_tmp = attn_scores_2 / attn_scores_2.sum()\n",
    "attn_weights_2_tmp"
   ]
  },
  {
   "cell_type": "code",
   "execution_count": 9,
   "metadata": {},
   "outputs": [
    {
     "data": {
      "text/plain": [
       "tensor(1.0000)"
      ]
     },
     "execution_count": 9,
     "metadata": {},
     "output_type": "execute_result"
    }
   ],
   "source": [
    "attn_weights_2_tmp.sum()"
   ]
  },
  {
   "cell_type": "code",
   "execution_count": 10,
   "metadata": {},
   "outputs": [],
   "source": [
    "attn_weights_2 = torch.softmax(attn_scores_2, dim=0)"
   ]
  },
  {
   "cell_type": "code",
   "execution_count": 11,
   "metadata": {},
   "outputs": [
    {
     "data": {
      "text/plain": [
       "tensor([0., 0., 0.])"
      ]
     },
     "execution_count": 11,
     "metadata": {},
     "output_type": "execute_result"
    }
   ],
   "source": [
    "torch.zeros(query.shape)"
   ]
  },
  {
   "cell_type": "code",
   "execution_count": 12,
   "metadata": {},
   "outputs": [
    {
     "name": "stdout",
     "output_type": "stream",
     "text": [
      "0.14822857081890106 ----> tensor([0.4300, 0.1200, 0.4500])\n",
      "0.19760210812091827 ----> tensor([0.2300, 0.6700, 0.1000])\n",
      "0.17183856666088104 ----> tensor([0.1200, 0.4500, 0.4300])\n",
      "0.16282165050506592 ----> tensor([0.6700, 0.2300, 0.1000])\n",
      "0.14663630723953247 ----> tensor([0.4500, 0.1000, 0.4300])\n",
      "0.17287269234657288 ----> tensor([0.1000, 0.4300, 0.6700])\n",
      "tensor([0.3222, 0.3540, 0.3555])\n"
     ]
    }
   ],
   "source": [
    "query = inputs[1]\n",
    "\n",
    "context_vec_2 = torch.zeros(query.shape)\n",
    "for i, x_i in enumerate(inputs):\n",
    "    print(f\"{attn_weights_2[i]} ----> {x_i}\")\n",
    "    context_vec_2 += attn_weights_2[i] * x_i\n",
    "print(context_vec_2)"
   ]
  },
  {
   "cell_type": "markdown",
   "metadata": {},
   "source": [
    "### 2) Simple self-attention mechanism without trainable weights generalized"
   ]
  },
  {
   "cell_type": "code",
   "execution_count": 13,
   "metadata": {},
   "outputs": [
    {
     "name": "stdout",
     "output_type": "stream",
     "text": [
      "tensor([[0.4018, 0.2243, 0.2991, 0.3607, 0.3990, 0.3961],\n",
      "        [0.2243, 0.5118, 0.3721, 0.3182, 0.2135, 0.3781],\n",
      "        [0.2991, 0.3721, 0.4018, 0.2269, 0.2839, 0.4936],\n",
      "        [0.3607, 0.3182, 0.2269, 0.5118, 0.3675, 0.2329],\n",
      "        [0.3990, 0.2135, 0.2839, 0.3675, 0.3974, 0.3761],\n",
      "        [0.3961, 0.3781, 0.4936, 0.2329, 0.3761, 0.6438]])\n"
     ]
    }
   ],
   "source": [
    "attn_scores = torch.empty(6, 6)\n",
    "\n",
    "\n",
    "for i, x_i in enumerate(inputs):\n",
    "    for j, x_j in enumerate(inputs):\n",
    "        attn_scores[i][j] = torch.dot(x_i, x_j)\n",
    "print(attn_scores)"
   ]
  },
  {
   "cell_type": "code",
   "execution_count": 14,
   "metadata": {},
   "outputs": [
    {
     "name": "stdout",
     "output_type": "stream",
     "text": [
      "tensor([[0.4018, 0.2243, 0.2991, 0.3607, 0.3990, 0.3961],\n",
      "        [0.2243, 0.5118, 0.3721, 0.3182, 0.2135, 0.3781],\n",
      "        [0.2991, 0.3721, 0.4018, 0.2269, 0.2839, 0.4936],\n",
      "        [0.3607, 0.3182, 0.2269, 0.5118, 0.3675, 0.2329],\n",
      "        [0.3990, 0.2135, 0.2839, 0.3675, 0.3974, 0.3761],\n",
      "        [0.3961, 0.3781, 0.4936, 0.2329, 0.3761, 0.6438]])\n"
     ]
    }
   ],
   "source": [
    "attn_scores = inputs @ inputs.T\n",
    "print(attn_scores)"
   ]
  },
  {
   "cell_type": "code",
   "execution_count": 15,
   "metadata": {},
   "outputs": [
    {
     "name": "stdout",
     "output_type": "stream",
     "text": [
      "tensor([[0.1757, 0.1471, 0.1586, 0.1686, 0.1752, 0.1747],\n",
      "        [0.1482, 0.1976, 0.1718, 0.1628, 0.1466, 0.1729],\n",
      "        [0.1584, 0.1704, 0.1755, 0.1473, 0.1560, 0.1924],\n",
      "        [0.1700, 0.1629, 0.1487, 0.1977, 0.1711, 0.1496],\n",
      "        [0.1765, 0.1466, 0.1573, 0.1710, 0.1762, 0.1725],\n",
      "        [0.1614, 0.1585, 0.1779, 0.1371, 0.1582, 0.2068]])\n"
     ]
    }
   ],
   "source": [
    "attn_weights = torch.softmax(attn_scores, dim=1)\n",
    "print(attn_weights)"
   ]
  },
  {
   "cell_type": "code",
   "execution_count": 16,
   "metadata": {},
   "outputs": [
    {
     "name": "stdout",
     "output_type": "stream",
     "text": [
      "tensor([[0.3377, 0.3225, 0.3712],\n",
      "        [0.3222, 0.3540, 0.3555],\n",
      "        [0.3165, 0.3444, 0.3745],\n",
      "        [0.3528, 0.3234, 0.3503],\n",
      "        [0.3396, 0.3213, 0.3701],\n",
      "        [0.3110, 0.3419, 0.3853]])\n"
     ]
    }
   ],
   "source": [
    "all_context_vecs = attn_weights @ inputs\n",
    "print(all_context_vecs)"
   ]
  },
  {
   "cell_type": "markdown",
   "metadata": {},
   "source": [
    "### 3) Implementing self-attention with trainable weights"
   ]
  },
  {
   "cell_type": "code",
   "execution_count": 17,
   "metadata": {},
   "outputs": [],
   "source": [
    "x_2 = inputs[1]\n",
    "d_in = inputs.shape[1]\n",
    "d_out = 2"
   ]
  },
  {
   "cell_type": "code",
   "execution_count": 18,
   "metadata": {},
   "outputs": [],
   "source": [
    "torch.manual_seed(123)\n",
    "\n",
    "W_query = torch.nn.Parameter(torch.randn(d_in, d_out))\n",
    "W_key = torch.nn.Parameter(torch.randn(d_in, d_out))\n",
    "W_value = torch.nn.Parameter(torch.randn(d_in, d_out))"
   ]
  },
  {
   "cell_type": "code",
   "execution_count": 19,
   "metadata": {},
   "outputs": [
    {
     "data": {
      "text/plain": [
       "tensor([-0.3930, -0.1125], grad_fn=<SqueezeBackward4>)"
      ]
     },
     "execution_count": 19,
     "metadata": {},
     "output_type": "execute_result"
    }
   ],
   "source": [
    "query_2 = x_2 @ W_query\n",
    "\n",
    "query_2"
   ]
  },
  {
   "cell_type": "code",
   "execution_count": 20,
   "metadata": {},
   "outputs": [
    {
     "data": {
      "text/plain": [
       "tensor([0.2300, 0.6700, 0.1000])"
      ]
     },
     "execution_count": 20,
     "metadata": {},
     "output_type": "execute_result"
    }
   ],
   "source": [
    "x_2"
   ]
  },
  {
   "cell_type": "code",
   "execution_count": 21,
   "metadata": {},
   "outputs": [
    {
     "data": {
      "text/plain": [
       "Parameter containing:\n",
       "tensor([[-0.1115,  0.1204],\n",
       "        [-0.3696, -0.2404],\n",
       "        [-1.1969,  0.2093]], requires_grad=True)"
      ]
     },
     "execution_count": 21,
     "metadata": {},
     "output_type": "execute_result"
    }
   ],
   "source": [
    "W_query"
   ]
  },
  {
   "cell_type": "code",
   "execution_count": 22,
   "metadata": {},
   "outputs": [
    {
     "data": {
      "text/plain": [
       "torch.Size([6, 2])"
      ]
     },
     "execution_count": 22,
     "metadata": {},
     "output_type": "execute_result"
    }
   ],
   "source": [
    "keys = inputs @ W_key\n",
    "value = inputs @ W_value\n",
    "\n",
    "keys.shape"
   ]
  },
  {
   "cell_type": "code",
   "execution_count": 23,
   "metadata": {},
   "outputs": [
    {
     "data": {
      "text/plain": [
       "tensor([[-0.2846, -0.5136],\n",
       "        [ 0.0144, -0.2855],\n",
       "        [ 0.1195, -0.3075],\n",
       "        [-0.5559, -0.5699],\n",
       "        [-0.3147, -0.5187],\n",
       "        [ 0.1830, -0.3840]], grad_fn=<MmBackward0>)"
      ]
     },
     "execution_count": 23,
     "metadata": {},
     "output_type": "execute_result"
    }
   ],
   "source": [
    "keys"
   ]
  },
  {
   "cell_type": "code",
   "execution_count": 24,
   "metadata": {},
   "outputs": [
    {
     "data": {
      "text/plain": [
       "tensor(0.0264, grad_fn=<DotBackward0>)"
      ]
     },
     "execution_count": 24,
     "metadata": {},
     "output_type": "execute_result"
    }
   ],
   "source": [
    "keys_2 = keys[1]\n",
    "attn_score_22 = torch.dot(query_2, keys_2)\n",
    "attn_score_22"
   ]
  },
  {
   "cell_type": "code",
   "execution_count": 25,
   "metadata": {},
   "outputs": [
    {
     "data": {
      "text/plain": [
       "tensor([ 0.1696,  0.0264, -0.0124,  0.2826,  0.1820, -0.0287],\n",
       "       grad_fn=<SqueezeBackward4>)"
      ]
     },
     "execution_count": 25,
     "metadata": {},
     "output_type": "execute_result"
    }
   ],
   "source": [
    "attn_scores_2 = query_2 @ keys.T\n",
    "attn_scores_2"
   ]
  },
  {
   "cell_type": "code",
   "execution_count": 26,
   "metadata": {},
   "outputs": [
    {
     "data": {
      "text/plain": [
       "tensor([0.1741, 0.1573, 0.1531, 0.1886, 0.1756, 0.1513],\n",
       "       grad_fn=<SoftmaxBackward0>)"
      ]
     },
     "execution_count": 26,
     "metadata": {},
     "output_type": "execute_result"
    }
   ],
   "source": [
    "d_k = keys.shape[1]\n",
    "\n",
    "attn_weights_2 = torch.softmax(attn_scores_2 / d_k**0.5, dim=-1)\n",
    "attn_weights_2"
   ]
  },
  {
   "cell_type": "code",
   "execution_count": 27,
   "metadata": {},
   "outputs": [
    {
     "data": {
      "text/plain": [
       "tensor([0.1818, 0.2301], grad_fn=<SqueezeBackward4>)"
      ]
     },
     "execution_count": 27,
     "metadata": {},
     "output_type": "execute_result"
    }
   ],
   "source": [
    "context_vec_2 = attn_weights_2 @ value\n",
    "context_vec_2"
   ]
  },
  {
   "cell_type": "markdown",
   "metadata": {},
   "source": [
    "### 4) Implementing a compact SelfAttention class"
   ]
  },
  {
   "cell_type": "code",
   "execution_count": 35,
   "metadata": {},
   "outputs": [
    {
     "data": {
      "text/plain": [
       "tensor([[0.1823, 0.2348],\n",
       "        [0.1818, 0.2301],\n",
       "        [0.1821, 0.2355],\n",
       "        [0.1820, 0.2287],\n",
       "        [0.1822, 0.2343],\n",
       "        [0.1823, 0.2405]], grad_fn=<MmBackward0>)"
      ]
     },
     "execution_count": 35,
     "metadata": {},
     "output_type": "execute_result"
    }
   ],
   "source": [
    "import torch.nn as nn\n",
    "\n",
    "class SelfAttention_v1(nn.Module):\n",
    "\n",
    "    def __init__(self, d_in, d_out):\n",
    "        super().__init__()\n",
    "        self.W_query = nn.Parameter(torch.randn(d_in, d_out))\n",
    "        self.W_key = nn.Parameter(torch.randn(d_in, d_out))\n",
    "        self.W_value = nn.Parameter(torch.randn(d_in, d_out))\n",
    "\n",
    "    def forward(self, inputs):\n",
    "        queries = inputs @ self.W_query\n",
    "        keys = inputs @ self.W_key\n",
    "        values = inputs @ self.W_value\n",
    "\n",
    "        attn_scores = queries @ keys.T\n",
    "        attn_weights = torch.softmax(attn_scores / keys.shape[1]**0.5, dim=-1)\n",
    "        context_vec = attn_weights @ values\n",
    "\n",
    "        return context_vec\n",
    "    \n",
    "torch.manual_seed(123)\n",
    "sa_v1 = SelfAttention_v1(d_in, d_out)\n",
    "sa_v1(inputs)"
   ]
  },
  {
   "cell_type": "code",
   "execution_count": 37,
   "metadata": {},
   "outputs": [
    {
     "data": {
      "text/plain": [
       "tensor([[-0.3572, -0.0460],\n",
       "        [-0.3570, -0.0488],\n",
       "        [-0.3571, -0.0474],\n",
       "        [-0.3572, -0.0469],\n",
       "        [-0.3572, -0.0460],\n",
       "        [-0.3572, -0.0468]], grad_fn=<MmBackward0>)"
      ]
     },
     "execution_count": 37,
     "metadata": {},
     "output_type": "execute_result"
    }
   ],
   "source": [
    "import torch.nn as nn\n",
    "\n",
    "class SelfAttention_v2(nn.Module):\n",
    "\n",
    "    def __init__(self, d_in, d_out ,qkv_bias=False):\n",
    "        super().__init__()\n",
    "        self.W_query = torch.nn.Linear(d_in, d_out, bias=qkv_bias)\n",
    "        self.W_key = torch.nn.Linear(d_in, d_out, bias=qkv_bias)\n",
    "        self.W_value = torch.nn.Linear(d_in, d_out, bias=qkv_bias)\n",
    "\n",
    "    def forward(self, inputs):\n",
    "        queries = self.W_query(inputs)\n",
    "        keys = self.W_key(inputs)\n",
    "        values = self.W_value(inputs)\n",
    "\n",
    "        attn_scores = queries @ keys.T\n",
    "        attn_weights = torch.softmax(attn_scores / keys.shape[1]**0.5, dim=-1)\n",
    "        context_vec = attn_weights @ values\n",
    "\n",
    "        return context_vec\n",
    "    \n",
    "torch.manual_seed(123)\n",
    "sa_v2 = SelfAttention_v2(d_in, d_out)\n",
    "sa_v2(inputs)"
   ]
  },
  {
   "cell_type": "markdown",
   "metadata": {},
   "source": [
    "### 5) Hiding future words with casual attention"
   ]
  },
  {
   "cell_type": "code",
   "execution_count": 38,
   "metadata": {},
   "outputs": [],
   "source": [
    "queries = sa_v2.W_query(inputs)\n",
    "keys = sa_v2.W_key(inputs)\n",
    "values = sa_v2.W_value(inputs)\n",
    "\n",
    "attn_scores = queries @ keys.T\n",
    "attn_weights = torch.softmax(attn_scores / keys.shape[1]**0.5, dim=-1)"
   ]
  },
  {
   "cell_type": "code",
   "execution_count": 39,
   "metadata": {},
   "outputs": [
    {
     "data": {
      "text/plain": [
       "tensor([[0.1683, 0.1630, 0.1646, 0.1680, 0.1683, 0.1678],\n",
       "        [0.1640, 0.1712, 0.1684, 0.1651, 0.1637, 0.1676],\n",
       "        [0.1661, 0.1672, 0.1666, 0.1665, 0.1659, 0.1677],\n",
       "        [0.1669, 0.1656, 0.1658, 0.1671, 0.1668, 0.1678],\n",
       "        [0.1684, 0.1629, 0.1646, 0.1680, 0.1683, 0.1678],\n",
       "        [0.1670, 0.1653, 0.1656, 0.1672, 0.1669, 0.1679]],\n",
       "       grad_fn=<SoftmaxBackward0>)"
      ]
     },
     "execution_count": 39,
     "metadata": {},
     "output_type": "execute_result"
    }
   ],
   "source": [
    "attn_weights"
   ]
  },
  {
   "cell_type": "code",
   "execution_count": 40,
   "metadata": {},
   "outputs": [
    {
     "data": {
      "text/plain": [
       "tensor([[1., 0., 0., 0., 0., 0.],\n",
       "        [1., 1., 0., 0., 0., 0.],\n",
       "        [1., 1., 1., 0., 0., 0.],\n",
       "        [1., 1., 1., 1., 0., 0.],\n",
       "        [1., 1., 1., 1., 1., 0.],\n",
       "        [1., 1., 1., 1., 1., 1.]])"
      ]
     },
     "execution_count": 40,
     "metadata": {},
     "output_type": "execute_result"
    }
   ],
   "source": [
    "context_length = attn_scores.shape[0]\n",
    "mask_simple = torch.tril(torch.ones(context_length, context_length))\n",
    "mask_simple"
   ]
  },
  {
   "cell_type": "code",
   "execution_count": 41,
   "metadata": {},
   "outputs": [
    {
     "data": {
      "text/plain": [
       "tensor([[0.1683, 0.0000, 0.0000, 0.0000, 0.0000, 0.0000],\n",
       "        [0.1640, 0.1712, 0.0000, 0.0000, 0.0000, 0.0000],\n",
       "        [0.1661, 0.1672, 0.1666, 0.0000, 0.0000, 0.0000],\n",
       "        [0.1669, 0.1656, 0.1658, 0.1671, 0.0000, 0.0000],\n",
       "        [0.1684, 0.1629, 0.1646, 0.1680, 0.1683, 0.0000],\n",
       "        [0.1670, 0.1653, 0.1656, 0.1672, 0.1669, 0.1679]],\n",
       "       grad_fn=<MulBackward0>)"
      ]
     },
     "execution_count": 41,
     "metadata": {},
     "output_type": "execute_result"
    }
   ],
   "source": [
    "masked_simple = attn_weights * mask_simple\n",
    "masked_simple"
   ]
  },
  {
   "cell_type": "code",
   "execution_count": 42,
   "metadata": {},
   "outputs": [
    {
     "data": {
      "text/plain": [
       "tensor([[1.0000, 0.0000, 0.0000, 0.0000, 0.0000, 0.0000],\n",
       "        [0.4892, 0.5108, 0.0000, 0.0000, 0.0000, 0.0000],\n",
       "        [0.3323, 0.3344, 0.3333, 0.0000, 0.0000, 0.0000],\n",
       "        [0.2508, 0.2489, 0.2492, 0.2511, 0.0000, 0.0000],\n",
       "        [0.2024, 0.1957, 0.1977, 0.2019, 0.2023, 0.0000],\n",
       "        [0.1670, 0.1653, 0.1656, 0.1672, 0.1669, 0.1679]],\n",
       "       grad_fn=<DivBackward0>)"
      ]
     },
     "execution_count": 42,
     "metadata": {},
     "output_type": "execute_result"
    }
   ],
   "source": [
    "row_sums = masked_simple.sum(dim=-1, keepdim=True)\n",
    "masked_simple_norm = masked_simple / row_sums\n",
    "masked_simple_norm"
   ]
  },
  {
   "cell_type": "code",
   "execution_count": 43,
   "metadata": {},
   "outputs": [
    {
     "data": {
      "text/plain": [
       "tensor([[ 0.1325,    -inf,    -inf,    -inf,    -inf,    -inf],\n",
       "        [-0.0157,  0.0454,    -inf,    -inf,    -inf,    -inf],\n",
       "        [ 0.0547,  0.0638,  0.0588,    -inf,    -inf,    -inf],\n",
       "        [ 0.0866,  0.0756,  0.0774,  0.0881,    -inf,    -inf],\n",
       "        [ 0.1333,  0.0860,  0.1006,  0.1303,  0.1327,    -inf],\n",
       "        [ 0.1002,  0.0856,  0.0885,  0.1016,  0.0990,  0.1078]],\n",
       "       grad_fn=<MaskedFillBackward0>)"
      ]
     },
     "execution_count": 43,
     "metadata": {},
     "output_type": "execute_result"
    }
   ],
   "source": [
    "mask = torch.triu(torch.ones(context_length, context_length), diagonal=1)\n",
    "masked = attn_scores.masked_fill(mask.bool(), float('-inf'))\n",
    "masked"
   ]
  },
  {
   "cell_type": "code",
   "execution_count": 44,
   "metadata": {},
   "outputs": [
    {
     "data": {
      "text/plain": [
       "tensor([[1.0000, 0.0000, 0.0000, 0.0000, 0.0000, 0.0000],\n",
       "        [0.4892, 0.5108, 0.0000, 0.0000, 0.0000, 0.0000],\n",
       "        [0.3323, 0.3344, 0.3333, 0.0000, 0.0000, 0.0000],\n",
       "        [0.2508, 0.2489, 0.2492, 0.2511, 0.0000, 0.0000],\n",
       "        [0.2024, 0.1957, 0.1977, 0.2019, 0.2023, 0.0000],\n",
       "        [0.1670, 0.1653, 0.1656, 0.1672, 0.1669, 0.1679]],\n",
       "       grad_fn=<SoftmaxBackward0>)"
      ]
     },
     "execution_count": 44,
     "metadata": {},
     "output_type": "execute_result"
    }
   ],
   "source": [
    "attn_weights = torch.softmax(masked / keys.shape[1]**0.5, dim=-1)\n",
    "attn_weights"
   ]
  },
  {
   "cell_type": "markdown",
   "metadata": {},
   "source": [
    "### 6) Masking additional attention weights with dropout"
   ]
  },
  {
   "cell_type": "code",
   "execution_count": 45,
   "metadata": {},
   "outputs": [],
   "source": [
    "torch.manual_seed(123)\n",
    "\n",
    "layer = torch.nn.Dropout(0.5)"
   ]
  },
  {
   "cell_type": "code",
   "execution_count": 47,
   "metadata": {},
   "outputs": [
    {
     "data": {
      "text/plain": [
       "tensor([[2., 2., 0., 0., 0., 0.],\n",
       "        [0., 0., 2., 0., 0., 2.],\n",
       "        [0., 0., 2., 2., 0., 2.],\n",
       "        [0., 2., 0., 2., 2., 0.],\n",
       "        [0., 2., 2., 2., 2., 2.],\n",
       "        [2., 2., 0., 0., 2., 2.]])"
      ]
     },
     "execution_count": 47,
     "metadata": {},
     "output_type": "execute_result"
    }
   ],
   "source": [
    "example = torch.ones(6,6)\n",
    "layer(example)"
   ]
  },
  {
   "cell_type": "markdown",
   "metadata": {},
   "source": [
    "### 7) Implementing a compact casual self-attention class"
   ]
  },
  {
   "cell_type": "code",
   "execution_count": 59,
   "metadata": {},
   "outputs": [],
   "source": [
    "batch = torch.stack((inputs, inputs), dim=0)"
   ]
  },
  {
   "cell_type": "code",
   "execution_count": 60,
   "metadata": {},
   "outputs": [
    {
     "data": {
      "text/plain": [
       "tensor([[[-0.3481,  0.0685],\n",
       "         [-0.3586, -0.1112],\n",
       "         [-0.3415, -0.0884],\n",
       "         [-0.3637, -0.1007],\n",
       "         [-0.3604, -0.0659],\n",
       "         [-0.3572, -0.0468]],\n",
       "\n",
       "        [[-0.3481,  0.0685],\n",
       "         [-0.3586, -0.1112],\n",
       "         [-0.3415, -0.0884],\n",
       "         [-0.3637, -0.1007],\n",
       "         [-0.3604, -0.0659],\n",
       "         [-0.3572, -0.0468]]], grad_fn=<UnsafeViewBackward0>)"
      ]
     },
     "execution_count": 60,
     "metadata": {},
     "output_type": "execute_result"
    }
   ],
   "source": [
    "import torch.nn as nn\n",
    "\n",
    "class CasualAttention(nn.Module):\n",
    "\n",
    "    def __init__(self, d_in, d_out, context_length, dropout, qkv_bias=False):\n",
    "        super().__init__()\n",
    "        self.W_query = torch.nn.Linear(d_in, d_out, bias=qkv_bias)\n",
    "        self.W_key = torch.nn.Linear(d_in, d_out, bias=qkv_bias)\n",
    "        self.W_value = torch.nn.Linear(d_in, d_out, bias=qkv_bias)\n",
    "        self.dropout = torch.nn.Dropout(dropout)\n",
    "        self.register_buffer('mask', torch.triu(torch.ones(context_length, context_length), diagonal=1))\n",
    "\n",
    "    def forward(self, inputs):\n",
    "        b, num_tokens, d_in = inputs.shape\n",
    "        queries = self.W_query(inputs)\n",
    "        keys = self.W_key(inputs)\n",
    "        values = self.W_value(inputs)\n",
    "\n",
    "        attn_scores = queries @ keys.transpose(1, 2)\n",
    "        attn_scores.masked_fill_(self.mask.bool()[:num_tokens, :num_tokens], -torch.inf)\n",
    "        attn_weights = torch.softmax(attn_scores / keys.shape[-1]**0.5, dim=-1)\n",
    "        attn_weights = self.dropout(attn_weights)\n",
    "        context_vec = attn_weights @ values\n",
    "        return context_vec\n",
    "    \n",
    "torch.manual_seed(123)\n",
    "\n",
    "context_length = batch.shape[1]\n",
    "dropout = 0.0\n",
    "ca = CasualAttention(d_in, d_out, context_length, dropout)\n",
    "ca(batch)"
   ]
  },
  {
   "cell_type": "markdown",
   "metadata": {},
   "source": [
    "### 8) Extending single-head attention to multi-head attention"
   ]
  },
  {
   "cell_type": "code",
   "execution_count": 62,
   "metadata": {},
   "outputs": [
    {
     "data": {
      "text/plain": [
       "tensor([[[-0.3481,  0.0685,  0.3582,  0.1255],\n",
       "         [-0.3586, -0.1112,  0.3401,  0.2513],\n",
       "         [-0.3415, -0.0884,  0.3239,  0.2406],\n",
       "         [-0.3637, -0.1007,  0.3483,  0.2434],\n",
       "         [-0.3604, -0.0659,  0.3501,  0.2216],\n",
       "         [-0.3572, -0.0468,  0.3479,  0.2172]],\n",
       "\n",
       "        [[-0.3481,  0.0685,  0.3582,  0.1255],\n",
       "         [-0.3586, -0.1112,  0.3401,  0.2513],\n",
       "         [-0.3415, -0.0884,  0.3239,  0.2406],\n",
       "         [-0.3637, -0.1007,  0.3483,  0.2434],\n",
       "         [-0.3604, -0.0659,  0.3501,  0.2216],\n",
       "         [-0.3572, -0.0468,  0.3479,  0.2172]]], grad_fn=<CatBackward0>)"
      ]
     },
     "execution_count": 62,
     "metadata": {},
     "output_type": "execute_result"
    }
   ],
   "source": [
    "class MultiHeadAttentionWrapper(nn.Module):\n",
    "    def __init__(self, d_in, d_out, context_length, dropout, num_heads=2, qkv_bias=False):\n",
    "        super().__init__()\n",
    "        self.heads = [CasualAttention(d_in, d_out, context_length, dropout, qkv_bias) for _ in range(num_heads)]\n",
    "\n",
    "    def forward(self, inputs):\n",
    "        return torch.cat([head(inputs) for head in self.heads], dim=-1)\n",
    "    \n",
    "torch.manual_seed(123)\n",
    "\n",
    "context_length = batch.shape[1]\n",
    "d_in, d_out = 3, 2\n",
    "\n",
    "mha = MultiHeadAttentionWrapper(d_in, d_out, context_length, dropout=0.0, num_heads=2)\n",
    "mha(batch)"
   ]
  },
  {
   "cell_type": "code",
   "execution_count": null,
   "metadata": {},
   "outputs": [],
   "source": []
  }
 ],
 "metadata": {
  "kernelspec": {
   "display_name": ".venv",
   "language": "python",
   "name": "python3"
  },
  "language_info": {
   "codemirror_mode": {
    "name": "ipython",
    "version": 3
   },
   "file_extension": ".py",
   "mimetype": "text/x-python",
   "name": "python",
   "nbconvert_exporter": "python",
   "pygments_lexer": "ipython3",
   "version": "3.12.3"
  }
 },
 "nbformat": 4,
 "nbformat_minor": 2
}
